{
  "nbformat": 4,
  "nbformat_minor": 0,
  "metadata": {
    "colab": {
      "provenance": []
    },
    "kernelspec": {
      "name": "python3",
      "display_name": "Python 3"
    },
    "language_info": {
      "name": "python"
    }
  },
  "cells": [
    {
      "cell_type": "code",
      "execution_count": null,
      "metadata": {
        "id": "uECvn5w59y6G",
        "colab": {
          "base_uri": "https://localhost:8080/"
        },
        "outputId": "1ad62fbe-efb0-4364-ffa0-4c3191319b3d"
      },
      "outputs": [
        {
          "output_type": "stream",
          "name": "stdout",
          "text": [
            "Requirement already satisfied: kaggle in /usr/local/lib/python3.11/dist-packages (1.7.4.2)\n",
            "Requirement already satisfied: bleach in /usr/local/lib/python3.11/dist-packages (from kaggle) (6.2.0)\n",
            "Requirement already satisfied: certifi>=14.05.14 in /usr/local/lib/python3.11/dist-packages (from kaggle) (2025.1.31)\n",
            "Requirement already satisfied: charset-normalizer in /usr/local/lib/python3.11/dist-packages (from kaggle) (3.4.1)\n",
            "Requirement already satisfied: idna in /usr/local/lib/python3.11/dist-packages (from kaggle) (3.10)\n",
            "Requirement already satisfied: protobuf in /usr/local/lib/python3.11/dist-packages (from kaggle) (5.29.4)\n",
            "Requirement already satisfied: python-dateutil>=2.5.3 in /usr/local/lib/python3.11/dist-packages (from kaggle) (2.8.2)\n",
            "Requirement already satisfied: python-slugify in /usr/local/lib/python3.11/dist-packages (from kaggle) (8.0.4)\n",
            "Requirement already satisfied: requests in /usr/local/lib/python3.11/dist-packages (from kaggle) (2.32.3)\n",
            "Requirement already satisfied: setuptools>=21.0.0 in /usr/local/lib/python3.11/dist-packages (from kaggle) (75.2.0)\n",
            "Requirement already satisfied: six>=1.10 in /usr/local/lib/python3.11/dist-packages (from kaggle) (1.17.0)\n",
            "Requirement already satisfied: text-unidecode in /usr/local/lib/python3.11/dist-packages (from kaggle) (1.3)\n",
            "Requirement already satisfied: tqdm in /usr/local/lib/python3.11/dist-packages (from kaggle) (4.67.1)\n",
            "Requirement already satisfied: urllib3>=1.15.1 in /usr/local/lib/python3.11/dist-packages (from kaggle) (2.3.0)\n",
            "Requirement already satisfied: webencodings in /usr/local/lib/python3.11/dist-packages (from kaggle) (0.5.1)\n"
          ]
        }
      ],
      "source": [
        "!pip install kaggle"
      ]
    },
    {
      "cell_type": "code",
      "source": [
        "from google.colab import drive\n",
        "drive.mount('/content/drive')"
      ],
      "metadata": {
        "id": "aAr0CFYv98O1",
        "colab": {
          "base_uri": "https://localhost:8080/"
        },
        "outputId": "e43f1e2a-6885-4d04-e47e-29e18a0afc55"
      },
      "execution_count": null,
      "outputs": [
        {
          "output_type": "stream",
          "name": "stdout",
          "text": [
            "Mounted at /content/drive\n"
          ]
        }
      ]
    },
    {
      "cell_type": "code",
      "source": [
        "! mkdir ~/.kaggle"
      ],
      "metadata": {
        "id": "dGyWz2LM9_zt"
      },
      "execution_count": null,
      "outputs": []
    },
    {
      "cell_type": "code",
      "source": [
        "cp  /content/drive/MyDrive/Kaggle_Api/kaggle.json ~/.kaggle/"
      ],
      "metadata": {
        "id": "4Nk0Im9H-CPR"
      },
      "execution_count": null,
      "outputs": []
    },
    {
      "cell_type": "code",
      "source": [
        "! chmod 600 ~/.kaggle/kaggle.json"
      ],
      "metadata": {
        "id": "rd9sCh35-Edt"
      },
      "execution_count": null,
      "outputs": []
    },
    {
      "cell_type": "code",
      "source": [
        "! kaggle datasets download arshkon/linkedin-job-postings"
      ],
      "metadata": {
        "id": "JwdsMbEb-KGB",
        "colab": {
          "base_uri": "https://localhost:8080/"
        },
        "outputId": "f025c34f-0623-4f7c-d0a7-9ce30e61f445"
      },
      "execution_count": null,
      "outputs": [
        {
          "output_type": "stream",
          "name": "stdout",
          "text": [
            "Dataset URL: https://www.kaggle.com/datasets/arshkon/linkedin-job-postings\n",
            "License(s): CC-BY-SA-4.0\n",
            "linkedin-job-postings.zip: Skipping, found more recently modified local copy (use --force to force download)\n"
          ]
        }
      ]
    },
    {
      "cell_type": "code",
      "source": [
        "! unzip linkedin-job-postings.zip"
      ],
      "metadata": {
        "colab": {
          "base_uri": "https://localhost:8080/"
        },
        "id": "TToXRy5BMkgA",
        "outputId": "fac1eb63-ea61-434d-9556-57fbb6136b34"
      },
      "execution_count": null,
      "outputs": [
        {
          "output_type": "stream",
          "name": "stdout",
          "text": [
            "Archive:  linkedin-job-postings.zip\n",
            "  inflating: companies/companies.csv  \n",
            "  inflating: companies/company_industries.csv  \n",
            "  inflating: companies/company_specialities.csv  \n",
            "  inflating: companies/employee_counts.csv  \n",
            "  inflating: jobs/benefits.csv       \n",
            "  inflating: jobs/job_industries.csv  \n",
            "  inflating: jobs/job_skills.csv     \n",
            "  inflating: jobs/salaries.csv       \n",
            "  inflating: mappings/industries.csv  \n",
            "  inflating: mappings/skills.csv     \n",
            "  inflating: postings.csv            \n"
          ]
        }
      ]
    },
    {
      "cell_type": "markdown",
      "source": [
        "# **Step1: Load and Explore Dataset**"
      ],
      "metadata": {
        "id": "v6ByGjn2FIAB"
      }
    },
    {
      "cell_type": "code",
      "source": [
        "\n",
        "import pandas as pd\n",
        "import numpy as np\n",
        "import matplotlib.pyplot as plt\n",
        "import seaborn as sns\n",
        "from sklearn.impute import SimpleImputer\n",
        "from sklearn.preprocessing import StandardScaler\n",
        "from sklearn.cluster import KMeans\n",
        "from scipy import stats\n",
        "\n",
        "# Step 1: Load and Explore the Dataset\n",
        "# For this example, we'll assume the data is loaded from a CSV file\n",
        "# In a real scenario, replace this with the actual data loading code\n",
        "print(\"Step 1: Load and Explore the Dataset\")\n",
        "\n",
        "# Using the sample data provided\n",
        "\n",
        "\n",
        "# Load the dataset\n",
        "df = pd.read_csv('postings.csv')\n",
        "\n",
        "# Get basic information about the dataset\n",
        "print(f\"Dataset shape: {df.shape}\")\n",
        "print(\"\\nData types:\")\n",
        "print(df.dtypes)\n",
        "print(\"\\nBasic statistics:\")\n",
        "print(df.describe().T)\n",
        "print(\"\\nMissing values:\")\n",
        "print(df.isnull().sum())\n"
      ],
      "metadata": {
        "id": "xUG-hWggFGpz",
        "colab": {
          "base_uri": "https://localhost:8080/"
        },
        "outputId": "62d587ad-1308-46d7-de99-b08ceb673343"
      },
      "execution_count": null,
      "outputs": [
        {
          "output_type": "stream",
          "name": "stdout",
          "text": [
            "Step 1: Load and Explore the Dataset\n",
            "Dataset shape: (123849, 31)\n",
            "\n",
            "Data types:\n",
            "job_id                          int64\n",
            "company_name                   object\n",
            "title                          object\n",
            "description                    object\n",
            "max_salary                    float64\n",
            "pay_period                     object\n",
            "location                       object\n",
            "company_id                    float64\n",
            "views                         float64\n",
            "med_salary                    float64\n",
            "min_salary                    float64\n",
            "formatted_work_type            object\n",
            "applies                       float64\n",
            "original_listed_time          float64\n",
            "remote_allowed                float64\n",
            "job_posting_url                object\n",
            "application_url                object\n",
            "application_type               object\n",
            "expiry                        float64\n",
            "closed_time                   float64\n",
            "formatted_experience_level     object\n",
            "skills_desc                    object\n",
            "listed_time                   float64\n",
            "posting_domain                 object\n",
            "sponsored                       int64\n",
            "work_type                      object\n",
            "currency                       object\n",
            "compensation_type              object\n",
            "normalized_salary             float64\n",
            "zip_code                      float64\n",
            "fips                          float64\n",
            "dtype: object\n",
            "\n",
            "Basic statistics:\n",
            "                         count          mean           std           min  \\\n",
            "job_id                123849.0  3.896402e+09  8.404355e+07  9.217160e+05   \n",
            "max_salary             29793.0  9.193942e+04  7.011101e+05  1.000000e+00   \n",
            "company_id            122132.0  1.220401e+07  2.554143e+07  1.009000e+03   \n",
            "views                 122160.0  1.461825e+01  8.590360e+01  1.000000e+00   \n",
            "med_salary              6280.0  2.201562e+04  5.225587e+04  0.000000e+00   \n",
            "min_salary             29793.0  6.491085e+04  4.959738e+05  1.000000e+00   \n",
            "applies                23320.0  1.059198e+01  2.904739e+01  1.000000e+00   \n",
            "original_listed_time  123849.0  1.713152e+12  4.848209e+08  1.701811e+12   \n",
            "remote_allowed         15246.0  1.000000e+00  0.000000e+00  1.000000e+00   \n",
            "expiry                123849.0  1.716213e+12  2.321394e+09  1.712903e+12   \n",
            "closed_time             1073.0  1.712928e+12  3.622893e+08  1.712346e+12   \n",
            "listed_time           123849.0  1.713204e+12  3.989122e+08  1.711317e+12   \n",
            "sponsored             123849.0  0.000000e+00  0.000000e+00  0.000000e+00   \n",
            "normalized_salary      36073.0  2.053270e+05  5.097627e+06  0.000000e+00   \n",
            "zip_code              102977.0  5.040049e+04  3.025223e+04  1.001000e+03   \n",
            "fips                   96434.0  2.871388e+04  1.601593e+04  1.003000e+03   \n",
            "\n",
            "                               25%           50%           75%           max  \n",
            "job_id                3.894587e+09  3.901998e+09  3.904707e+09  3.906267e+09  \n",
            "max_salary            4.828000e+01  8.000000e+04  1.400000e+05  1.200000e+08  \n",
            "company_id            1.435200e+04  2.269650e+05  8.047188e+06  1.034730e+08  \n",
            "views                 3.000000e+00  4.000000e+00  8.000000e+00  9.975000e+03  \n",
            "med_salary            1.894000e+01  2.550000e+01  2.510500e+03  7.500000e+05  \n",
            "min_salary            3.700000e+01  6.000000e+04  1.000000e+05  8.500000e+07  \n",
            "applies               1.000000e+00  3.000000e+00  8.000000e+00  9.670000e+02  \n",
            "original_listed_time  1.712863e+12  1.713395e+12  1.713478e+12  1.713573e+12  \n",
            "remote_allowed        1.000000e+00  1.000000e+00  1.000000e+00  1.000000e+00  \n",
            "expiry                1.715481e+12  1.716042e+12  1.716088e+12  1.729125e+12  \n",
            "closed_time           1.712670e+12  1.712670e+12  1.713283e+12  1.713562e+12  \n",
            "listed_time           1.712886e+12  1.713408e+12  1.713484e+12  1.713573e+12  \n",
            "sponsored             0.000000e+00  0.000000e+00  0.000000e+00  0.000000e+00  \n",
            "normalized_salary     5.200000e+04  8.150000e+04  1.250000e+05  5.356000e+08  \n",
            "zip_code              2.411200e+04  4.805900e+04  7.820100e+04  9.990100e+04  \n",
            "fips                  1.312100e+04  2.918300e+04  4.207700e+04  5.604500e+04  \n",
            "\n",
            "Missing values:\n",
            "job_id                             0\n",
            "company_name                    1719\n",
            "title                              0\n",
            "description                        7\n",
            "max_salary                     94056\n",
            "pay_period                     87776\n",
            "location                           0\n",
            "company_id                      1717\n",
            "views                           1689\n",
            "med_salary                    117569\n",
            "min_salary                     94056\n",
            "formatted_work_type                0\n",
            "applies                       100529\n",
            "original_listed_time               0\n",
            "remote_allowed                108603\n",
            "job_posting_url                    0\n",
            "application_url                36665\n",
            "application_type                   0\n",
            "expiry                             0\n",
            "closed_time                   122776\n",
            "formatted_experience_level     29409\n",
            "skills_desc                   121410\n",
            "listed_time                        0\n",
            "posting_domain                 39968\n",
            "sponsored                          0\n",
            "work_type                          0\n",
            "currency                       87776\n",
            "compensation_type              87776\n",
            "normalized_salary              87776\n",
            "zip_code                       20872\n",
            "fips                           27415\n",
            "dtype: int64\n"
          ]
        }
      ]
    },
    {
      "cell_type": "markdown",
      "source": [
        "# **Step 2: Data Cleaning - Handle Missing Values and Normalize Salary Data**"
      ],
      "metadata": {
        "id": "lKNHhzI-FQnn"
      }
    },
    {
      "cell_type": "code",
      "source": [
        "print(\"\\n\\nStep 2: Data Cleaning\")\n",
        "\n",
        "# Create a new DataFrame to avoid modifying the original\n",
        "df_clean = df.copy()\n",
        "\n",
        "# Handle missing company names\n",
        "df_clean['company_name'].fillna('Unknown Company', inplace=True)\n",
        "\n",
        "# Normalize salary data - convert hourly wages to yearly\n",
        "def normalize_salary(row):\n",
        "    if pd.notna(row['max_salary']):\n",
        "        if row['pay_period'] == 'HOURLY':\n",
        "            # Assuming 40 hours per week, 52 weeks per year\n",
        "            return row['max_salary'] * 40 * 52\n",
        "        else:\n",
        "            return row['max_salary']\n",
        "    return row['normalized_salary']\n",
        "\n",
        "# If normalized_salary is available, use it; otherwise calculate from max_salary\n",
        "df_clean['annual_salary'] = df_clean.apply(normalize_salary, axis=1)\n",
        "\n",
        "print(\"Normalized salary data:\")\n",
        "print(df_clean[['title', 'max_salary', 'pay_period', 'normalized_salary', 'annual_salary']].head())"
      ],
      "metadata": {
        "id": "jpMs2eB4FS7k",
        "colab": {
          "base_uri": "https://localhost:8080/"
        },
        "outputId": "d5e4662d-5ed2-4c9d-9646-172abe2f2b40"
      },
      "execution_count": null,
      "outputs": [
        {
          "output_type": "stream",
          "name": "stdout",
          "text": [
            "\n",
            "\n",
            "Step 2: Data Cleaning\n"
          ]
        },
        {
          "output_type": "stream",
          "name": "stderr",
          "text": [
            "<ipython-input-12-69d59120ef21>:7: FutureWarning: A value is trying to be set on a copy of a DataFrame or Series through chained assignment using an inplace method.\n",
            "The behavior will change in pandas 3.0. This inplace method will never work because the intermediate object on which we are setting values always behaves as a copy.\n",
            "\n",
            "For example, when doing 'df[col].method(value, inplace=True)', try using 'df.method({col: value}, inplace=True)' or df[col] = df[col].method(value) instead, to perform the operation inplace on the original object.\n",
            "\n",
            "\n",
            "  df_clean['company_name'].fillna('Unknown Company', inplace=True)\n"
          ]
        },
        {
          "output_type": "stream",
          "name": "stdout",
          "text": [
            "Normalized salary data:\n",
            "                                               title  max_salary pay_period  \\\n",
            "0                              Marketing Coordinator        20.0     HOURLY   \n",
            "1                  Mental Health Therapist/Counselor        50.0     HOURLY   \n",
            "2                        Assitant Restaurant Manager     65000.0     YEARLY   \n",
            "3  Senior Elder Law / Trusts and Estates Associat...    175000.0     YEARLY   \n",
            "4                                 Service Technician     80000.0     YEARLY   \n",
            "\n",
            "   normalized_salary  annual_salary  \n",
            "0            38480.0        41600.0  \n",
            "1            83200.0       104000.0  \n",
            "2            55000.0        65000.0  \n",
            "3           157500.0       175000.0  \n",
            "4            70000.0        80000.0  \n"
          ]
        }
      ]
    },
    {
      "cell_type": "markdown",
      "source": [
        "# **Step 3: Feature Engineering**"
      ],
      "metadata": {
        "id": "EdifxwXOFew3"
      }
    },
    {
      "cell_type": "code",
      "source": [
        "print(\"\\n\\nStep 3: Feature Engineering\")\n",
        "\n",
        "# Extract state from location\n",
        "df_clean['state'] = df_clean['location'].str.extract(r',\\s*(\\w{2})$')\n",
        "\n",
        "# Convert listed_time from epoch to datetime\n",
        "df_clean['listed_date'] = pd.to_datetime(df_clean['listed_time'], unit='ms')\n",
        "\n",
        "# Create a binary flag for remote jobs\n",
        "df_clean['is_remote'] = df_clean['remote_allowed'].apply(lambda x: 1 if x == 1.0 else 0)\n",
        "\n",
        "# Calculate post age in days (from listing to current date)\n",
        "current_date = pd.Timestamp('2025-04-10')  # Using the current date from the prompt\n",
        "df_clean['post_age_days'] = (current_date - df_clean['listed_date']).dt.days\n",
        "\n",
        "print(\"Feature engineering results:\")\n",
        "print(df_clean[['location', 'state', 'listed_time', 'listed_date', 'remote_allowed', 'is_remote', 'post_age_days']].head())\n"
      ],
      "metadata": {
        "id": "8HgP82QJFfXo",
        "colab": {
          "base_uri": "https://localhost:8080/"
        },
        "outputId": "d097660a-1238-493f-9491-19e9b18f1893"
      },
      "execution_count": null,
      "outputs": [
        {
          "output_type": "stream",
          "name": "stdout",
          "text": [
            "\n",
            "\n",
            "Step 3: Feature Engineering\n",
            "Feature engineering results:\n",
            "            location state   listed_time         listed_date  remote_allowed  \\\n",
            "0      Princeton, NJ    NJ  1.713398e+12 2024-04-17 23:45:08             NaN   \n",
            "1   Fort Collins, CO    CO  1.712858e+12 2024-04-11 17:51:27             NaN   \n",
            "2     Cincinnati, OH    OH  1.713278e+12 2024-04-16 14:26:54             NaN   \n",
            "3  New Hyde Park, NY    NY  1.712896e+12 2024-04-12 04:23:32             NaN   \n",
            "4     Burlington, IA    IA  1.713452e+12 2024-04-18 14:52:23             NaN   \n",
            "\n",
            "   is_remote  post_age_days  \n",
            "0          0            357  \n",
            "1          0            363  \n",
            "2          0            358  \n",
            "3          0            362  \n",
            "4          0            356  \n"
          ]
        }
      ]
    },
    {
      "cell_type": "markdown",
      "source": [
        "# **Step 4: Exploratory Data Analysis - Salary Distribution**"
      ],
      "metadata": {
        "id": "lZJKWG5rF8Zh"
      }
    },
    {
      "cell_type": "code",
      "source": [
        "print(\"\\n\\nStep 4: Exploratory Data Analysis - Salary Distribution\")\n",
        "\n",
        "# Basic statistics for annual salary\n",
        "print(\"Annual salary statistics:\")\n",
        "print(df_clean['annual_salary'].describe())\n",
        "\n",
        "# Create a histogram of annual salaries\n",
        "plt.figure(figsize=(10, 6))\n",
        "sns.histplot(df_clean['annual_salary'].dropna(), kde=True)\n",
        "plt.title('Distribution of Annual Salaries')\n",
        "plt.xlabel('Annual Salary (USD)')\n",
        "plt.ylabel('Frequency')\n",
        "plt.savefig('salary_distribution.png')\n",
        "plt.close()  # Close the figure to avoid displaying in notebook\n",
        "\n",
        "print(\"Salary distribution analysis complete. Histogram would show the distribution pattern.\")"
      ],
      "metadata": {
        "id": "Ik1j442nGJgt",
        "colab": {
          "base_uri": "https://localhost:8080/"
        },
        "outputId": "74e6a6be-861e-4b3a-9a5c-2df38a01e10c"
      },
      "execution_count": null,
      "outputs": [
        {
          "output_type": "stream",
          "name": "stdout",
          "text": [
            "\n",
            "\n",
            "Step 4: Exploratory Data Analysis - Salary Distribution\n",
            "Annual salary statistics:\n",
            "count    3.607300e+04\n",
            "mean     2.275688e+05\n",
            "std      5.540858e+06\n",
            "min      0.000000e+00\n",
            "25%      5.453760e+04\n",
            "50%      9.000000e+04\n",
            "75%      1.400000e+05\n",
            "max      5.720000e+08\n",
            "Name: annual_salary, dtype: float64\n",
            "Salary distribution analysis complete. Histogram would show the distribution pattern.\n"
          ]
        }
      ]
    },
    {
      "cell_type": "markdown",
      "source": [
        "# **Step 5: Exploratory Data Analysis - Job Engagement Metrics**\n"
      ],
      "metadata": {
        "id": "9W3LBvtcGXJB"
      }
    },
    {
      "cell_type": "code",
      "source": [
        "print(\"\\n\\nStep 5: Exploratory Data Analysis - Job Engagement Metrics\")\n",
        "\n",
        "# Calculate view-to-application ratio (where data is available)\n",
        "df_clean['view_apply_ratio'] = df_clean['applies'] / df_clean['views']\n",
        "\n",
        "# Calculate the correlation between salary and views\n",
        "salary_views_corr = df_clean['annual_salary'].corr(df_clean['views'])\n",
        "print(f\"Correlation between annual salary and views: {salary_views_corr:.2f}\")\n",
        "\n",
        "# Scatter plot of salary vs. views\n",
        "plt.figure(figsize=(10, 6))\n",
        "sns.scatterplot(x='annual_salary', y='views', data=df_clean)\n",
        "plt.title('Job Views vs. Annual Salary')\n",
        "plt.xlabel('Annual Salary (USD)')\n",
        "plt.ylabel('Number of Views')\n",
        "plt.savefig('salary_vs_views.png')\n",
        "plt.close()\n",
        "\n",
        "print(\"Job engagement analysis complete. Scatter plot would show relationship between salary and views.\")\n"
      ],
      "metadata": {
        "colab": {
          "base_uri": "https://localhost:8080/"
        },
        "id": "0H7jYr22KbOQ",
        "outputId": "08ed72bf-e7e5-44de-a6da-fe60d1787879"
      },
      "execution_count": null,
      "outputs": [
        {
          "output_type": "stream",
          "name": "stdout",
          "text": [
            "\n",
            "\n",
            "Step 5: Exploratory Data Analysis - Job Engagement Metrics\n",
            "Correlation between annual salary and views: -0.00\n",
            "Job engagement analysis complete. Scatter plot would show relationship between salary and views.\n"
          ]
        }
      ]
    },
    {
      "cell_type": "markdown",
      "source": [
        "# **Step 6: Geographic Analysis**"
      ],
      "metadata": {
        "id": "X3PIQTd9Kf1c"
      }
    },
    {
      "cell_type": "code",
      "source": [
        "print(\"\\n\\nStep 6: Geographic Analysis\")\n",
        "\n",
        "# Count jobs by state\n",
        "state_counts = df_clean['state'].value_counts()\n",
        "print(\"Job count by state:\")\n",
        "print(state_counts)\n",
        "\n",
        "# Calculate average salary by state\n",
        "avg_salary_by_state = df_clean.groupby('state')['annual_salary'].mean().sort_values(ascending=False)\n",
        "print(\"\\nAverage annual salary by state:\")\n",
        "print(avg_salary_by_state)\n",
        "\n",
        "# Create a bar chart of average salaries by state\n",
        "plt.figure(figsize=(12, 6))\n",
        "avg_salary_by_state.plot(kind='bar')\n",
        "plt.title('Average Annual Salary by State')\n",
        "plt.xlabel('State')\n",
        "plt.ylabel('Average Annual Salary (USD)')\n",
        "plt.xticks(rotation=45)\n",
        "plt.savefig('salary_by_state.png')\n",
        "plt.close()\n",
        "\n",
        "print(\"Geographic analysis complete. Bar chart would show salary differences by state.\")"
      ],
      "metadata": {
        "colab": {
          "base_uri": "https://localhost:8080/"
        },
        "id": "zQSHnrX2KlJI",
        "outputId": "a78e06d6-56f1-4299-8198-124b2dc74cdd"
      },
      "execution_count": null,
      "outputs": [
        {
          "output_type": "stream",
          "name": "stdout",
          "text": [
            "\n",
            "\n",
            "Step 6: Geographic Analysis\n",
            "Job count by state:\n",
            "state\n",
            "CA    11484\n",
            "TX    10271\n",
            "NY     6044\n",
            "FL     5907\n",
            "NC     4927\n",
            "IL     4480\n",
            "PA     4133\n",
            "VA     3660\n",
            "MA     3489\n",
            "OH     3421\n",
            "GA     3420\n",
            "NJ     3286\n",
            "MI     2857\n",
            "WA     2708\n",
            "AZ     2507\n",
            "CO     2318\n",
            "MD     1974\n",
            "MO     1922\n",
            "TN     1885\n",
            "MN     1849\n",
            "WI     1849\n",
            "IN     1808\n",
            "SC     1539\n",
            "CT     1191\n",
            "KY     1179\n",
            "OR     1177\n",
            "LA     1106\n",
            "AL     1004\n",
            "IA      995\n",
            "DC      992\n",
            "UT      968\n",
            "KS      931\n",
            "NV      907\n",
            "OK      794\n",
            "AR      665\n",
            "NE      591\n",
            "NH      559\n",
            "NM      499\n",
            "HI      425\n",
            "WV      416\n",
            "ID      413\n",
            "MS      387\n",
            "ME      377\n",
            "DE      320\n",
            "RI      306\n",
            "MT      236\n",
            "ND      235\n",
            "AK      206\n",
            "VT      181\n",
            "SD      165\n",
            "WY      125\n",
            "ON        1\n",
            "QC        1\n",
            "Name: count, dtype: int64\n",
            "\n",
            "Average annual salary by state:\n",
            "state\n",
            "KY    804312.815509\n",
            "TX    706703.542086\n",
            "SC    705192.056264\n",
            "OK    610980.512139\n",
            "MN    409106.981463\n",
            "CA    363153.471399\n",
            "FL    275375.456017\n",
            "OH    252456.145635\n",
            "NC    224447.250822\n",
            "WA    204153.754454\n",
            "NY    160696.589933\n",
            "DC    125245.954053\n",
            "MA    111622.267271\n",
            "VA    110967.283502\n",
            "AK    109444.260000\n",
            "NJ    108935.327756\n",
            "IL    104995.290957\n",
            "CT    104889.521200\n",
            "GA    104116.580026\n",
            "PA    103560.264456\n",
            "MD    102487.342844\n",
            "DE     98904.891724\n",
            "OR     97767.734355\n",
            "CO     95088.937083\n",
            "AZ     90629.793079\n",
            "RI     89990.593846\n",
            "NV     89340.292085\n",
            "WV     86914.492500\n",
            "NM     85258.026087\n",
            "AL     84202.775355\n",
            "UT     83970.373197\n",
            "TN     83624.017346\n",
            "WI     82592.077742\n",
            "MO     81805.884222\n",
            "WY     81232.014815\n",
            "LA     79035.357404\n",
            "NH     78809.804380\n",
            "MI     78713.954177\n",
            "IN     77680.016238\n",
            "NE     77472.437500\n",
            "IA     77001.970101\n",
            "AR     76263.453731\n",
            "ID     75231.750667\n",
            "ME     74346.384124\n",
            "MT     73362.462687\n",
            "ND     72879.945902\n",
            "KS     71872.760505\n",
            "HI     71094.840419\n",
            "VT     71039.405349\n",
            "MS     68116.427692\n",
            "SD     68042.502041\n",
            "ON              NaN\n",
            "QC              NaN\n",
            "Name: annual_salary, dtype: float64\n",
            "Geographic analysis complete. Bar chart would show salary differences by state.\n"
          ]
        }
      ]
    },
    {
      "cell_type": "markdown",
      "source": [
        "# **Step 7: Salary Prediction Model (Basic)**"
      ],
      "metadata": {
        "id": "ZmeEacIPKpwG"
      }
    },
    {
      "cell_type": "code",
      "source": [
        "print(\"\\n\\nStep 7: Salary Prediction Model (Basic)\")\n",
        "\n",
        "# For this simple example, we'll create a basic linear regression model\n",
        "from sklearn.linear_model import LinearRegression\n",
        "from sklearn.model_selection import train_test_split\n",
        "from sklearn.metrics import mean_squared_error, r2_score\n",
        "\n",
        "# Select features for the model\n",
        "features = ['views', 'post_age_days', 'is_remote']\n",
        "available_features = [f for f in features if f in df_clean.columns]\n",
        "\n",
        "# Prepare the data (drop rows with missing values)\n",
        "model_data = df_clean.dropna(subset=['annual_salary'] + available_features)\n",
        "\n",
        "if len(model_data) >= 5:  # Need at least 5 rows for meaningful split\n",
        "    # Split the data into training and testing sets\n",
        "    X = model_data[available_features]\n",
        "    y = model_data['annual_salary']\n",
        "    X_train, X_test, y_train, y_test = train_test_split(X, y, test_size=0.2, random_state=42)\n",
        "\n",
        "    # Train the model\n",
        "    model = LinearRegression()\n",
        "    model.fit(X_train, y_train)\n",
        "\n",
        "    # Make predictions\n",
        "    y_pred = model.predict(X_test)\n",
        "\n",
        "    # Evaluate the model\n",
        "    mse = mean_squared_error(y_test, y_pred)\n",
        "    r2 = r2_score(y_test, y_pred)\n",
        "\n",
        "    print(f\"Model trained with features: {available_features}\")\n",
        "    print(f\"Mean Squared Error: {mse:.2f}\")\n",
        "    print(f\"R² Score: {r2:.2f}\")\n",
        "\n",
        "    # Feature importance\n",
        "    feature_importance = pd.DataFrame({\n",
        "        'Feature': available_features,\n",
        "        'Importance': model.coef_\n",
        "    })\n",
        "    print(\"\\nFeature importance:\")\n",
        "    print(feature_importance.sort_values('Importance', ascending=False))\n",
        "else:\n",
        "    print(\"Not enough complete data rows to build a prediction model.\")\n",
        "    print(\"In a real analysis, you would need more data points.\")"
      ],
      "metadata": {
        "colab": {
          "base_uri": "https://localhost:8080/"
        },
        "id": "OWmas8CwKpKf",
        "outputId": "bd08a802-f4d4-4771-949f-cc351a0f3671"
      },
      "execution_count": null,
      "outputs": [
        {
          "output_type": "stream",
          "name": "stdout",
          "text": [
            "\n",
            "\n",
            "Step 7: Salary Prediction Model (Basic)\n",
            "Model trained with features: ['views', 'post_age_days', 'is_remote']\n",
            "Mean Squared Error: 7656380123681.46\n",
            "R² Score: -0.00\n",
            "\n",
            "Feature importance:\n",
            "         Feature    Importance\n",
            "2      is_remote  74075.208572\n",
            "0          views   -110.530881\n",
            "1  post_age_days  -1192.381103\n"
          ]
        }
      ]
    },
    {
      "cell_type": "markdown",
      "source": [
        "# **Step 8: Text Analysis of Job Descriptions**"
      ],
      "metadata": {
        "id": "PjJJ1JtIK1Ky"
      }
    },
    {
      "cell_type": "code",
      "source": [
        "print(\"\\n\\nStep 8: Text Analysis of Job Descriptions\")\n",
        "\n",
        "# Basic text analysis\n",
        "def count_words(text):\n",
        "    if pd.isna(text):\n",
        "        return 0\n",
        "    return len(str(text).split())\n",
        "\n",
        "df_clean['description_word_count'] = df_clean['description'].apply(count_words)\n",
        "df_clean['skills_word_count'] = df_clean['skills_desc'].apply(count_words)\n",
        "\n",
        "print(\"Job description statistics:\")\n",
        "print(df_clean[['description_word_count', 'skills_word_count']].describe())\n",
        "\n",
        "# Example of text processing for keyword extraction\n",
        "from collections import Counter\n",
        "import re\n",
        "\n",
        "def extract_keywords(text_series):\n",
        "    # Combine all text\n",
        "    all_text = ' '.join(text_series.dropna().astype(str))\n",
        "\n",
        "    # Clean text and tokenize\n",
        "    words = re.findall(r'\\b[a-zA-Z]{3,}\\b', all_text.lower())\n",
        "\n",
        "    # Remove common stopwords (simplified list)\n",
        "    stopwords = {'and', 'the', 'for', 'with', 'are', 'this', 'that', 'you', 'our', 'has', 'have'}\n",
        "    words = [word for word in words if word not in stopwords]\n",
        "\n",
        "    # Count word frequencies\n",
        "    word_counts = Counter(words)\n",
        "    return word_counts.most_common(10)\n",
        "\n",
        "top_description_keywords = extract_keywords(df_clean['description'])\n",
        "print(\"\\nTop keywords in job descriptions:\")\n",
        "print(top_description_keywords)\n",
        "\n",
        "top_skills_keywords = extract_keywords(df_clean['skills_desc'])\n",
        "print(\"\\nTop keywords in skills requirements:\")\n",
        "print(top_skills_keywords)\n"
      ],
      "metadata": {
        "colab": {
          "base_uri": "https://localhost:8080/"
        },
        "id": "KNb-WLwIK6kO",
        "outputId": "a3973458-44b7-4a68-9417-c874c7df78b7"
      },
      "execution_count": null,
      "outputs": [
        {
          "output_type": "stream",
          "name": "stdout",
          "text": [
            "\n",
            "\n",
            "Step 8: Text Analysis of Job Descriptions\n",
            "Job description statistics:\n",
            "       description_word_count  skills_word_count\n",
            "count           123849.000000      123849.000000\n",
            "mean               523.027929           0.500166\n",
            "std                301.940688          11.201057\n",
            "min                  0.000000           0.000000\n",
            "25%                298.000000           0.000000\n",
            "50%                477.000000           0.000000\n",
            "75%                696.000000           0.000000\n",
            "max               3400.000000         529.000000\n",
            "\n",
            "Top keywords in job descriptions:\n",
            "[('experience', 374182), ('work', 349453), ('will', 278659), ('all', 274650), ('team', 250455), ('your', 204374), ('other', 197064), ('skills', 195123), ('job', 181537), ('including', 181292)]\n",
            "\n",
            "Top keywords in skills requirements:\n",
            "[('skills', 879), ('experience', 629), ('position', 527), ('following', 478), ('requires', 473), ('ability', 436), ('work', 380), ('must', 358), ('management', 285), ('required', 276)]\n"
          ]
        }
      ]
    },
    {
      "cell_type": "markdown",
      "source": [
        "# **Step 9: Job Market Segmentation**"
      ],
      "metadata": {
        "id": "spPQKv48K-va"
      }
    },
    {
      "cell_type": "code",
      "source": [
        "print(\"\\n\\nStep 9: Job Market Segmentation\")\n",
        "\n",
        "# Prepare data for clustering\n",
        "cluster_features = ['annual_salary', 'views', 'remote_allowed']\n",
        "cluster_data = df_clean[cluster_features].dropna()\n",
        "\n",
        "if len(cluster_data) >= 5:  # Need at least 5 rows for meaningful clustering\n",
        "    # Scale the data\n",
        "    scaler = StandardScaler()\n",
        "    scaled_data = scaler.fit_transform(cluster_data)\n",
        "\n",
        "    # Determine optimal number of clusters (using elbow method, simplified for this example)\n",
        "    max_clusters = min(4, len(cluster_data) - 1)  # Simplified for small dataset\n",
        "    wcss = []\n",
        "    for i in range(1, max_clusters + 1):\n",
        "        kmeans = KMeans(n_clusters=i, random_state=42, n_init=10)\n",
        "        kmeans.fit(scaled_data)\n",
        "        wcss.append(kmeans.inertia_)\n",
        "\n",
        "    # Apply K-Means clustering\n",
        "    k = 2  # Simplified choice for this example\n",
        "    kmeans = KMeans(n_clusters=k, random_state=42, n_init=10)\n",
        "    cluster_data['cluster'] = kmeans.fit_predict(scaled_data)\n",
        "\n",
        "    # Analyze clusters\n",
        "    cluster_analysis = cluster_data.groupby('cluster').mean()\n",
        "    print(\"Job market segments by salary and engagement:\")\n",
        "    print(cluster_analysis)\n",
        "\n",
        "    # Visualize clusters (2D projection)\n",
        "    plt.figure(figsize=(10, 6))\n",
        "    sns.scatterplot(x='annual_salary', y='views', hue='cluster', data=cluster_data, palette='viridis')\n",
        "    plt.title('Job Market Segments')\n",
        "    plt.xlabel('Annual Salary (USD)')\n",
        "    plt.ylabel('Number of Views')\n",
        "    plt.savefig('job_clusters.png')\n",
        "    plt.close()\n",
        "\n",
        "    print(\"Segmentation analysis complete. Scatter plot would show different job market segments.\")\n",
        "else:\n",
        "    print(\"Not enough complete data rows for clustering analysis.\")\n",
        "    print(\"In a real analysis, you would need more data points.\")"
      ],
      "metadata": {
        "colab": {
          "base_uri": "https://localhost:8080/"
        },
        "id": "7SdARq9pLGrz",
        "outputId": "f5eab3bc-db86-4aaa-b66b-aa5d2fa02dfc"
      },
      "execution_count": null,
      "outputs": [
        {
          "output_type": "stream",
          "name": "stdout",
          "text": [
            "\n",
            "\n",
            "Step 9: Job Market Segmentation\n",
            "Job market segments by salary and engagement:\n",
            "         annual_salary     views  remote_allowed\n",
            "cluster                                         \n",
            "0         1.400893e+05  58.06402             1.0\n",
            "1         3.120000e+08  22.00000             1.0\n",
            "Segmentation analysis complete. Scatter plot would show different job market segments.\n"
          ]
        }
      ]
    },
    {
      "cell_type": "markdown",
      "source": [
        "# **Step 10: Insights and Recommendations**"
      ],
      "metadata": {
        "id": "Lby6dxupLNBN"
      }
    },
    {
      "cell_type": "code",
      "source": [
        "print(\"\\n\\nStep 10: Insights and Recommendations\")\n",
        "\n",
        "# Calculate job market attractiveness score\n",
        "# Higher score = more competitive compensation and more engagement\n",
        "df_clean['market_score'] = (\n",
        "    df_clean['annual_salary'].fillna(df_clean['annual_salary'].median()) / df_clean['annual_salary'].median() * 0.7 +\n",
        "    df_clean['views'].fillna(df_clean['views'].median()) / df_clean['views'].median() * 0.3\n",
        ")\n",
        "\n",
        "# Sort by market score\n",
        "top_jobs = df_clean.sort_values('market_score', ascending=False).head(3)\n",
        "print(\"Top jobs by market attractiveness:\")\n",
        "print(top_jobs[['title', 'company_name', 'annual_salary', 'views', 'market_score']])\n",
        "\n",
        "# Identify potential undervalued jobs\n",
        "# Jobs with high view counts but lower salaries\n",
        "df_clean['salary_percentile'] = df_clean['annual_salary'].rank(pct=True)\n",
        "df_clean['views_percentile'] = df_clean['views'].rank(pct=True)\n",
        "df_clean['value_gap'] = df_clean['views_percentile'] - df_clean['salary_percentile']\n",
        "\n",
        "undervalued_jobs = df_clean.sort_values('value_gap', ascending=False).head(3)\n",
        "print(\"\\nPotentially undervalued jobs (high interest, lower salary):\")\n",
        "print(undervalued_jobs[['title', 'company_name', 'annual_salary', 'views', 'value_gap']])\n",
        "\n",
        "# Summary insights\n",
        "print(\"\\nSummary Insights:\")\n",
        "print(f\"1. Average annual salary across all jobs: ${df_clean['annual_salary'].mean():.2f}\")\n",
        "print(f\"2. Most jobs are {df_clean['formatted_work_type'].mode()[0]}\")\n",
        "print(f\"3. Remote-friendly jobs: {df_clean['is_remote'].sum()} out of {len(df_clean)}\")\n",
        "print(f\"4. Average job view count: {df_clean['views'].mean():.1f}\")\n",
        "print(f\"5. Most job postings are from {df_clean['state'].mode()[0] if not df_clean['state'].mode().empty else 'various states'}\")\n",
        "\n",
        "print(\"\\nRecommendations:\")\n",
        "print(\"1. Focus job search on high market score positions for best compensation\")\n",
        "print(\"2. Consider undervalued jobs for positions with high interest but potentially less competition\")\n",
        "print(\"3. Research companies in states with higher average salaries\")\n",
        "print(\"4. For employers: Include comprehensive skills descriptions to attract more qualified candidates\")\n",
        "print(\"5. For job seekers: Target positions with detailed job descriptions as they tend to offer better compensation\")"
      ],
      "metadata": {
        "colab": {
          "base_uri": "https://localhost:8080/"
        },
        "id": "6prDf0upLgsF",
        "outputId": "af554d99-540c-416b-8958-9246a25269f2"
      },
      "execution_count": null,
      "outputs": [
        {
          "output_type": "stream",
          "name": "stdout",
          "text": [
            "\n",
            "\n",
            "Step 10: Insights and Recommendations\n",
            "Top jobs by market attractiveness:\n",
            "                                          title  \\\n",
            "9237   Intellectual Property Associate (246215)   \n",
            "98888        Case Manager RN, Pedi Rheumatology   \n",
            "89082                    Cloud Domain Architect   \n",
            "\n",
            "                        company_name  annual_salary  views  market_score  \n",
            "9237   Eastridge Workforce Solutions    572000000.0    4.0   4449.188889  \n",
            "98888              Kaiser Permanente    408865600.0    4.0   3180.365778  \n",
            "89082                     Applicantz    312000000.0   42.0   2429.816667  \n",
            "\n",
            "Potentially undervalued jobs (high interest, lower salary):\n",
            "                                   title    company_name  annual_salary  \\\n",
            "46750                     UX/UI Designer       MIDIScale            0.0   \n",
            "29777         Human Resources Generalist       Lionsgate           32.0   \n",
            "40894  Remote Software Engineer (Python)  Insight Global           63.0   \n",
            "\n",
            "       views  value_gap  \n",
            "46750  260.0   0.994201  \n",
            "29777  476.0   0.993421  \n",
            "40894  306.0   0.988282  \n",
            "\n",
            "Summary Insights:\n",
            "1. Average annual salary across all jobs: $227568.81\n",
            "2. Most jobs are Full-time\n",
            "3. Remote-friendly jobs: 15246 out of 123849\n",
            "4. Average job view count: 14.6\n",
            "5. Most job postings are from CA\n",
            "\n",
            "Recommendations:\n",
            "1. Focus job search on high market score positions for best compensation\n",
            "2. Consider undervalued jobs for positions with high interest but potentially less competition\n",
            "3. Research companies in states with higher average salaries\n",
            "4. For employers: Include comprehensive skills descriptions to attract more qualified candidates\n",
            "5. For job seekers: Target positions with detailed job descriptions as they tend to offer better compensation\n"
          ]
        }
      ]
    }
  ]
}